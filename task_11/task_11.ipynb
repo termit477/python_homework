{
 "cells": [
  {
   "cell_type": "code",
   "execution_count": 6,
   "metadata": {},
   "outputs": [
    {
     "name": "stdout",
     "output_type": "stream",
     "text": [
      "      1 |      .       .        .       .        .       .      \n",
      "        |               .                       .               \n",
      "        |     .                .         .                .     \n",
      "        |                                                       \n",
      "        |       .     .          .     .          .     .       \n",
      "        |                                                       \n",
      "        |                                                       \n",
      "        |                .    .           .    .                \n",
      "        |    .                                             .    \n",
      "        |                                                       \n",
      "      0 |-------------------------------------------------------\n",
      "        |        .   .            .   .            .   .        \n",
      "        |                                                       \n",
      "        |                                                       \n",
      "        |.                .                   .                .\n",
      "        |   .                .             .                .   \n",
      "        |                                                       \n",
      "        |         .                . .                .         \n",
      "        |           .                               .           \n",
      "        | ..               ..               ..               .. \n",
      "     -1 |_______________________________________________________\n",
      "         -10                        0                          10\n"
     ]
    }
   ],
   "source": [
    "from sympy import symbols, sin, cos, Symbol, solveset, diff, pprint, S\n",
    "from sympy.plotting import plot\n",
    "x = Symbol('x')\n",
    "func = plot(sin(x)**2-cos(x)**2, show = False)\n",
    "func.show()"
   ]
  },
  {
   "cell_type": "code",
   "execution_count": 7,
   "metadata": {},
   "outputs": [
    {
     "name": "stdout",
     "output_type": "stream",
     "text": [
      "⎧      π │      ⎫   ⎧      3⋅π │      ⎫\n",
      "⎨n⋅π + ─ │ n ∊ ℤ⎬ ∪ ⎨n⋅π + ─── │ n ∊ ℤ⎬\n",
      "⎩      4 │      ⎭   ⎩       4  │      ⎭\n"
     ]
    }
   ],
   "source": [
    "pprint(solveset(sin(x)**2-cos(x)**2, x, domain= S.Reals), use_unicode = True)"
   ]
  },
  {
   "cell_type": "code",
   "execution_count": 8,
   "metadata": {},
   "outputs": [
    {
     "name": "stdout",
     "output_type": "stream",
     "text": [
      "⎛π  3⋅π⎞\n",
      "⎜─, ───⎟\n",
      "⎝4   4 ⎠\n"
     ]
    }
   ],
   "source": [
    "pprint(solveset(sin(x)**2-cos(x)**2 > 0, x, domain= S.Reals), use_unicode = True)"
   ]
  },
  {
   "cell_type": "code",
   "execution_count": 9,
   "metadata": {},
   "outputs": [
    {
     "name": "stdout",
     "output_type": "stream",
     "text": [
      "⎡   π⎞   ⎛3⋅π   ⎞\n",
      "⎢0, ─⎟ ∪ ⎜───, π⎟\n",
      "⎣   4⎠   ⎝ 4    ⎠\n"
     ]
    }
   ],
   "source": [
    "pprint(solveset(sin(x)**2-cos(x)**2 < 0, x, domain= S.Reals), use_unicode = True)"
   ]
  },
  {
   "cell_type": "code",
   "execution_count": 11,
   "metadata": {},
   "outputs": [
    {
     "name": "stdout",
     "output_type": "stream",
     "text": [
      "      2 |    .       .        .       .        .       .        \n",
      "        |   .                .                .                .\n",
      "        |             .                .                .       \n",
      "        |           .                .                .         \n",
      "        |     .                                                 \n",
      "        |                      .                .               \n",
      "        |                                    .                . \n",
      "        |  .                .                                   \n",
      "        |              .                .                .      \n",
      "        |                                                       \n",
      "      0 |----------.----------------.----------------.----------\n",
      "        |                                                       \n",
      "        |      .                .                .              \n",
      "        |                                   .                .  \n",
      "        | .                .                                    \n",
      "        |               .                .                      \n",
      "        |                                                 .     \n",
      "        |         .                .                .           \n",
      "        |       .                .                .             \n",
      "        |.                .                .                .   \n",
      "     -2 |_______________________________________________________\n",
      "         -10                        0                          10\n"
     ]
    },
    {
     "data": {
      "text/latex": [
       "$\\displaystyle 4 \\sin{\\left(x \\right)} \\cos{\\left(x \\right)}$"
      ],
      "text/plain": [
       "4*sin(x)*cos(x)"
      ]
     },
     "execution_count": 11,
     "metadata": {},
     "output_type": "execute_result"
    }
   ],
   "source": [
    "eq_diff = diff(sin(x)**2-cos(x)**2, x)\n",
    "plot(eq_diff, show = False).show()\n",
    "eq_diff"
   ]
  },
  {
   "cell_type": "code",
   "execution_count": 12,
   "metadata": {},
   "outputs": [
    {
     "name": "stdout",
     "output_type": "stream",
     "text": [
      "                                        ⎧        π │      ⎫   ⎧        3⋅π │  \n",
      "{2⋅n⋅π │ n ∊ ℤ} ∪ {2⋅n⋅π + π │ n ∊ ℤ} ∪ ⎨2⋅n⋅π + ─ │ n ∊ ℤ⎬ ∪ ⎨2⋅n⋅π + ─── │ n\n",
      "                                        ⎩        2 │      ⎭   ⎩         2  │  \n",
      "\n",
      "    ⎫\n",
      " ∊ ℤ⎬\n",
      "    ⎭\n"
     ]
    }
   ],
   "source": [
    "pprint(solveset(eq_diff, x, domain= S.Reals), use_unicode = True)"
   ]
  },
  {
   "cell_type": "code",
   "execution_count": 13,
   "metadata": {},
   "outputs": [
    {
     "name": "stdout",
     "output_type": "stream",
     "text": [
      "⎛   π⎞\n",
      "⎜0, ─⎟\n",
      "⎝   2⎠\n"
     ]
    }
   ],
   "source": [
    "pprint(solveset(eq_diff > 0, x, domain= S.Reals), use_unicode = True)"
   ]
  },
  {
   "cell_type": "code",
   "execution_count": 14,
   "metadata": {},
   "outputs": [
    {
     "name": "stdout",
     "output_type": "stream",
     "text": [
      "⎛π   ⎞\n",
      "⎜─, π⎟\n",
      "⎝2   ⎠\n"
     ]
    }
   ],
   "source": [
    "pprint(solveset(eq_diff < 0, x, domain= S.Reals), use_unicode = True)"
   ]
  }
 ],
 "metadata": {
  "kernelspec": {
   "display_name": "Python 3",
   "language": "python",
   "name": "python3"
  },
  "language_info": {
   "codemirror_mode": {
    "name": "ipython",
    "version": 3
   },
   "file_extension": ".py",
   "mimetype": "text/x-python",
   "name": "python",
   "nbconvert_exporter": "python",
   "pygments_lexer": "ipython3",
   "version": "3.10.9"
  },
  "orig_nbformat": 4,
  "vscode": {
   "interpreter": {
    "hash": "9b4d75ac280b6c7c3aa43866cb82dc88915409b55fec83a093dd0284cb58708e"
   }
  }
 },
 "nbformat": 4,
 "nbformat_minor": 2
}
